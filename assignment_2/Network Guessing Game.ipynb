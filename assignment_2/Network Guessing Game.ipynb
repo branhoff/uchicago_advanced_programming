{
 "cells": [
  {
   "cell_type": "code",
   "execution_count": null,
   "metadata": {},
   "outputs": [
    {
     "name": "stdout",
     "output_type": "stream",
     "text": [
      "Connection received from:  ('127.0.0.1', 62462)\n",
      "Connection passed to new thread. Returning to listening.\n"
     ]
    }
   ],
   "source": [
    "import random\n",
    "from socket import *\n",
    "import threading\n",
    "\n",
    "# Set up the socket\n",
    "\n",
    "serversocket = socket(AF_INET, SOCK_STREAM)\n",
    "serversocket.bind(('localhost', 4000))\n",
    "serversocket.listen(5)\n",
    "\n",
    "# Function definitions\n",
    "\n",
    "def handleclient(clientsocket, clientaddress):\n",
    "    # Receive the client's greeting\n",
    "    clientgreeting = clientsocket.recv(1024)\n",
    "    # Send the welcome message to the client\n",
    "    welcomemessage = \"Greetings\\r\\n\"\n",
    "    clientsocket.send(welcomemessage.encode('ascii'))\n",
    "\n",
    "    running = 1\n",
    "    guesses = []\n",
    "    # Generate a random number for the client to try and guess\n",
    "    answer = generatenumber()\n",
    "    # Main loop\n",
    "    while running:\n",
    "        guess = clientsocket.recv(1024)\n",
    "\n",
    "        guessstring = guess.decode('ascii')\n",
    "        print(guessstring)\n",
    "        # Split the guess string up to get the integer guessed\n",
    "        guess = int(guessstring.split()[1])\n",
    "\n",
    "        running = True\n",
    "        \n",
    "        diff = guess - answer\n",
    "        guesses.append(guess)\n",
    "        good_guesses = [g for g in guesses if g <= 100 and g >= 1]\n",
    "        \n",
    "        # If the player has guessed correctly\n",
    "        if (guess == answer):\n",
    "            messagetosend = (f'You got it! It only took you {len(guesses)} attempts...')\n",
    "            clientsocket.send(messagetosend.encode('ascii'))\n",
    "            running = False\n",
    "        else:\n",
    "            if guess > 100 or guess < 1:\n",
    "                messagetosend = ('OUT OF BOUNDS\\r\\n')\n",
    "\n",
    "            if (guess > 100 or guess < 1) and len(good_guesses) > 1:\n",
    "                messagetosend = (f'Your last good guess was {good_guesses[-1]}\\r\\n')\n",
    "\n",
    "            elif len(good_guesses) == 1:\n",
    "                if abs(diff) <= 10:\n",
    "                    messagetosend = ('WARM!\\r\\n')\n",
    "                else:\n",
    "                    messagetosend = ('COLD!\\r\\n')\n",
    "\n",
    "            elif len(good_guesses) > 1:\n",
    "                if abs(answer - good_guesses[-1]) < abs(answer - good_guesses[-2]):\n",
    "                    messagetosend = ('WARMER...\\r\\n')\n",
    "       \n",
    "                else:\n",
    "                    messagetosend = ('COLDER...\\r\\n')\n",
    "                \n",
    "            # Send the response to the player\n",
    "        clientsocket.send(messagetosend.encode('ascii'))\n",
    "    # Close the connection\n",
    "    clientsocket.close()\n",
    "    print(\"Connection closed.\")\n",
    "\n",
    "def generatenumber():\n",
    "    return random.randrange(1, 100)\n",
    "\n",
    "# Main server loop\n",
    "\n",
    "while True:\n",
    "    (clientsocket, clientaddress) = serversocket.accept()\n",
    "    print(\"Connection received from: \", clientaddress)\n",
    "    threading.Thread(target = handleclient, args =  (clientsocket, clientaddress)).start()\n",
    "    print(\"Connection passed to new thread. Returning to listening.\")"
   ]
  },
  {
   "cell_type": "code",
   "execution_count": null,
   "metadata": {},
   "outputs": [],
   "source": []
  }
 ],
 "metadata": {
  "kernelspec": {
   "display_name": "Python 3",
   "language": "python",
   "name": "python3"
  },
  "language_info": {
   "codemirror_mode": {
    "name": "ipython",
    "version": 3
   },
   "file_extension": ".py",
   "mimetype": "text/x-python",
   "name": "python",
   "nbconvert_exporter": "python",
   "pygments_lexer": "ipython3",
   "version": "3.7.2"
  }
 },
 "nbformat": 4,
 "nbformat_minor": 2
}
