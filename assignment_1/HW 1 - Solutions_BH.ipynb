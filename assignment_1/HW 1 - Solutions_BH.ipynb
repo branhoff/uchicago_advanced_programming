{
 "cells": [
  {
   "cell_type": "markdown",
   "metadata": {},
   "source": [
    "### Problem 1"
   ]
  },
  {
   "cell_type": "markdown",
   "metadata": {},
   "source": [
    "##### Short Version\n",
    "\n",
    "I've got a goofy little farming simulation I like. In order to maximize my profits, I want to calculate the compound return of crops where you buy seeds, harvest crops over a certain duration, sell those crops and reinvest the earnings into more seeds.\n",
    "\n",
    "There are two types of crops (broadly) so I've written two subclasses to take in these different types of crops and calculate a compound calculation."
   ]
  },
  {
   "cell_type": "markdown",
   "metadata": {},
   "source": [
    "##### Long Version\n",
    "I've decided to write a class to help me in a goofy little video game I like to play, Stardew Valley. Stardew Valley is a simple little \"farming\" simulation game in the vein of Harvest Moon. That's putting it simplistically... but this isn't Stardew Apologetics. Wikipedia can explain it better than me: https://en.wikipedia.org/wiki/Stardew_Valley\n",
    "\n",
    "One of the primary features of this game is (obviously) farming. You can buy seeds for a variety of crops and plant them with various different growth rates and then sell them at different prices. Being the sort of perfectionist I am at these kinds of silly, resource building games I immediatley wanted to maximize my revenue.\n",
    "\n",
    "Looking online, I immediately understood from the sites I was visiting that these authors really didn't understand the idea of compounding. When trying to find recommendations on crops during different seasons to focus on to make the most money, all of the articles I read evaluated crops in terms of \"coins per day\". Essentially, if something like (price-cost)/growth. This sounds right for most people, but I knew immediatley that a better model would be a compounding return model. Essentially, it relates to that old riddle you might have heard when you were a kid: \"Would you rather have a million dollars a day, or have a penny double every day for a month\". And if anyone does the map, despite that a penny doubling doesn't seem like it would get very far any time soon, you'll quickly realize how quickly it adds up, easily dwarfing a million dollars.\n",
    "\n",
    "So naturally, I knew that it wasn't simple enough to evaluate crops from a \"earnings per day\" method when you can reinvest those earnings for duration of 28 days. So I wanted to calculate what that would be for every crop to make an informed decision on which crop to invest in. But, since this is a little made up world, I had to write very specific rules other than the standard compounding formula (which would be easy to write a function for).\n",
    "\n",
    "Things like, for instance, if the shop is closed, you can't buy the crop to plant that day, so you need a way to calculate what the return will be if you have to reinvest every 5 days rather than every 4 days. Also, there are no fractions in this game. So you often will buy some number of seeds that's an integer and your return will be an integer. So something to track the remainder for every purchase and then reinvests the revenue and the remainder was necessary.\n",
    "\n",
    "There are also two different types of crops that effect this class. Firstly, some crops have a set growth duration. Meaning than if you plant them on x day, they will yield a crop x + n days. These types of crops are what I call \"nonrenewable\" You plant, you harvest them, and then you must replant them with the proceeds from your harvest. However some crops, are what I call \"renewable\". They continue to produce on a cycle without having to be replanted. They always have long intial durations and for the first harvest, and then have shorter durations for every subsequent harvest. So the fist yield may take 10 days but subsequently they will continue to reyield crops without having to replant seeds."
   ]
  },
  {
   "cell_type": "code",
   "execution_count": 1,
   "metadata": {},
   "outputs": [],
   "source": [
    "class Crop:\n",
    "    \n",
    "    season_duration = 28\n",
    "    \n",
    "    def __init__(self, crop, cost, sell_price, growth_duration):\n",
    "        self.crop = crop\n",
    "        self.cost = cost\n",
    "        self.sell_price = sell_price\n",
    "        self.growth_duration = growth_duration\n",
    "        \n",
    "        self.leftover_days = Crop.season_duration % (self.growth_duration + 1)\n",
    "        self.harvest_count = int((Crop.season_duration - self.leftover_days) / (self.growth_duration + 1))\n",
    "    \n",
    "    def get_crop(self):\n",
    "        return self.crop\n",
    "    \n",
    "    def get_cost(self):\n",
    "        return self.cost\n",
    "    \n",
    "    def get_sell_price(self):\n",
    "        return self.sell_price\n",
    "    \n",
    "    def get_growth_duration(self):\n",
    "        return self.growth_duration\n",
    "            \n",
    "    def shop_closed(self, start=0):\n",
    "        end = Crop.season_duration\n",
    "        \n",
    "        return [x+1 for x in range(start-1,end) if (x+1) % 7 == 3]\n",
    "    \n",
    "    def pay_days(self, start=1):\n",
    "        end = Crop.season_duration\n",
    "        \n",
    "        isharvest = lambda x: x % (self.growth_duration+1) == 0\n",
    "        isclosed = lambda x: x % 7 == 3\n",
    "        \n",
    "        return [x+start-1 if isharvest(x) and not isclosed(x+1) else x+start for x in range(start,end+1) if isharvest(x)]\n",
    "    \n",
    "    def harvest(self):\n",
    "        print(self.period)\n",
    "        print(self.harvest_count)\n",
    "        \n",
    "class NonRenewCrop(Crop):\n",
    "        \n",
    "    def __init__(self, crop, cost, sell_price, growth_duration):\n",
    "        super().__init__(crop, cost, sell_price, growth_duration)\n",
    "\n",
    "        self.leftover_days = Crop.season_duration % self.growth_duration\n",
    "        self.harvest_count = int((Crop.season_duration - self.leftover_days) / self.growth_duration + 1)\n",
    "\n",
    "    def compound(self, account=500):\n",
    "        for x in self.pay_days():\n",
    "            remainder = account % self.cost\n",
    "            revenue = ((account - (remainder))/self.cost)*self.sell_price\n",
    "            account = revenue + remainder\n",
    "            \n",
    "        return account\n",
    "\n",
    "class RenewCrop(Crop):\n",
    "        \n",
    "    def __init__(self, crop, cost, sell_price, growth_duration, intial_grow):\n",
    "        super().__init__(crop, cost, sell_price, growth_duration)\n",
    "        self.intial_grow = intial_grow\n",
    "\n",
    "        self.leftover_days = Crop.season_duration % self.growth_duration\n",
    "        self.harvest_count = int((Crop.season_duration - self.leftover_days) / self.growth_duration + 1)\n",
    "        \n",
    "    def compound(self, account=500):\n",
    "        pass\n"
   ]
  },
  {
   "cell_type": "code",
   "execution_count": 2,
   "metadata": {},
   "outputs": [],
   "source": [
    "crops =      [['Parsnip', 20, 35, 4], \n",
    "              ['Potato', 50, 100, 6], \n",
    "              ['Cauliflower', 80, 175, 12], \n",
    "              ['Kale', 70, 110, 6],\n",
    "              ['Garlic', 40, 60, 4]]"
   ]
  },
  {
   "cell_type": "code",
   "execution_count": 3,
   "metadata": {},
   "outputs": [
    {
     "name": "stdout",
     "output_type": "stream",
     "text": [
      "Parsnip 8135.0\n",
      "Potato 8000.0\n",
      "Cauliflower 2305.0\n",
      "Kale 2980.0\n",
      "Garlic 3680.0\n"
     ]
    }
   ],
   "source": [
    "for crop in crops:\n",
    "    crop = NonRenewCrop(crop[0],crop[1],crop[2],crop[3])\n",
    "    print(crop.crop, crop.compound())\n",
    "    "
   ]
  },
  {
   "cell_type": "markdown",
   "metadata": {},
   "source": [
    "Despite the Internet's love of the Potato, from a compound perspective, Parsnips are better for an overall return since their growth_duration (therefore the reinvestment cycle) is shorter."
   ]
  },
  {
   "cell_type": "markdown",
   "metadata": {},
   "source": [
    "### Problem 2"
   ]
  },
  {
   "cell_type": "markdown",
   "metadata": {},
   "source": [
    "Since the class started I was recommended to try Codewars (https://www.codewars.com/\n",
    ") to practice my coding skills. People sbumit interesting algorthimic problems for people to sharpen their teeth on and both of my comprehensions are attempted solutions to those problems."
   ]
  },
  {
   "cell_type": "markdown",
   "metadata": {},
   "source": [
    "#### Premise 1\n",
    "Write a function that takes in a string of one or more words, and returns the same string, but with all five or more letter words reversed (Just like the name of this Kata). Strings passed in will consist of only letters and spaces. Spaces will be included only when more than one word is present.\n",
    "\n",
    "Examples: spinWords( \"Hey fellow warriors\" ) => returns \"Hey wollef sroirraw\" spinWords( \"This is a test\") => returns \"This is a test\" spinWords( \"This is another test\" )=> returns \"This is rehtona test\""
   ]
  },
  {
   "cell_type": "code",
   "execution_count": 4,
   "metadata": {},
   "outputs": [],
   "source": [
    "problems = [\"Single word\", \"Welcome to CodeWars\", \"Multiple Words\", \"Hey fellow Warrors\"]"
   ]
  },
  {
   "cell_type": "markdown",
   "metadata": {},
   "source": [
    "#### For Loop Solution:"
   ]
  },
  {
   "cell_type": "code",
   "execution_count": 5,
   "metadata": {
    "scrolled": true
   },
   "outputs": [
    {
     "name": "stdout",
     "output_type": "stream",
     "text": [
      "elgniS word\n",
      "emocleW to sraWedoC\n",
      "elpitluM sdroW\n",
      "Hey wollef srorraW\n"
     ]
    }
   ],
   "source": [
    "for problem in problems:\n",
    "    sentence = problem\n",
    "    solution = []\n",
    "    for w in sentence.split():\n",
    "        if len(w) >= 5:\n",
    "            solution.append(w[::-1])\n",
    "        else:\n",
    "            solution.append(w)\n",
    "        \n",
    "    print(' '.join(solution))\n",
    "    "
   ]
  },
  {
   "cell_type": "markdown",
   "metadata": {},
   "source": [
    "#### List Comp Solution"
   ]
  },
  {
   "cell_type": "code",
   "execution_count": 6,
   "metadata": {},
   "outputs": [
    {
     "name": "stdout",
     "output_type": "stream",
     "text": [
      "elgniS word\n",
      "emocleW to sraWedoC\n",
      "elpitluM sdroW\n",
      "Hey wollef srorraW\n"
     ]
    }
   ],
   "source": [
    "def spin_words(sentence):\n",
    "    return ' '.join([w[::-1] if len(w)>=5 else w for w in sentence.split()])\n",
    "\n",
    "for problem in problems:\n",
    "    print(spin_words(problem))"
   ]
  },
  {
   "cell_type": "markdown",
   "metadata": {},
   "source": [
    "#### lambda Solution"
   ]
  },
  {
   "cell_type": "code",
   "execution_count": 7,
   "metadata": {},
   "outputs": [
    {
     "name": "stdout",
     "output_type": "stream",
     "text": [
      "elgniS word\n",
      "emocleW to sraWedoC\n",
      "elpitluM sdroW\n",
      "Hey wollef srorraW\n"
     ]
    }
   ],
   "source": [
    "for problem in problems:\n",
    "    solution = ' '.join(list(map(lambda w: w[::-1] if len(w)>=5 else w, problem.split())))\n",
    "    \n",
    "    print(solution)"
   ]
  },
  {
   "cell_type": "markdown",
   "metadata": {},
   "source": [
    "#### Premise 2\n",
    "Write an algorithm that takes an array and moves all of the zeros to the end, preserving the order of the other elements."
   ]
  },
  {
   "cell_type": "code",
   "execution_count": 8,
   "metadata": {},
   "outputs": [],
   "source": [
    "problems = [[1,2,0,1,0,1,0,3,0,1],\n",
    "            [9,0.0,0,9,1,2,0,1,0,1,0.0,3,0,1,9,0,0,0,0,9], \n",
    "            [\"a\",0,0,\"b\",\"c\",\"d\",0,1,0,1,0,3,0,1,9,0,0,0,0,9], \n",
    "            [\"a\",0,0,\"b\",None,\"c\",\"d\",0,1,False,0,1,0,3,[],0,1,9,0,0,{},0,0,9], \n",
    "            [0,1,None,2,False,1,0]\n",
    "           ]"
   ]
  },
  {
   "cell_type": "markdown",
   "metadata": {},
   "source": [
    "#### For Loop Solution:"
   ]
  },
  {
   "cell_type": "code",
   "execution_count": 9,
   "metadata": {
    "scrolled": true
   },
   "outputs": [
    {
     "name": "stdout",
     "output_type": "stream",
     "text": [
      "[1, 2, 1, 1, 3, 1, 0, 0, 0, 0]\n",
      "[9, 9, 1, 2, 1, 1, 3, 1, 9, 9, 0.0, 0, 0, 0, 0.0, 0, 0, 0, 0, 0]\n",
      "['a', 'b', 'c', 'd', 1, 1, 3, 1, 9, 9, 0, 0, 0, 0, 0, 0, 0, 0, 0, 0]\n",
      "['a', 'b', None, 'c', 'd', 1, False, 1, 3, [], 1, 9, {}, 9, 0, 0, 0, 0, 0, 0, 0, 0, 0, 0]\n",
      "[1, None, 2, False, 1, 0, 0]\n"
     ]
    }
   ],
   "source": [
    "for problem in problems:\n",
    "    array = problem\n",
    "    zeroes = []\n",
    "    solution = []\n",
    "    for item in array:\n",
    "        if item !=0 or isinstance(item, bool):\n",
    "            solution.append(item)\n",
    "        else:\n",
    "            zeroes.append(item)\n",
    "    \n",
    "    print(solution + zeroes)"
   ]
  },
  {
   "cell_type": "markdown",
   "metadata": {},
   "source": [
    "#### List Comp Solution"
   ]
  },
  {
   "cell_type": "code",
   "execution_count": 10,
   "metadata": {},
   "outputs": [
    {
     "name": "stdout",
     "output_type": "stream",
     "text": [
      "[1, 2, 1, 1, 3, 1, 0, 0, 0, 0]\n",
      "[9, 9, 1, 2, 1, 1, 3, 1, 9, 9, 0, 0, 0, 0, 0, 0, 0, 0, 0, 0]\n",
      "['a', 'b', 'c', 'd', 1, 1, 3, 1, 9, 9, 0, 0, 0, 0, 0, 0, 0, 0, 0, 0]\n",
      "['a', 'b', None, 'c', 'd', 1, False, 1, 3, [], 1, 9, {}, 9, 0, 0, 0, 0, 0, 0, 0, 0, 0, 0]\n",
      "[1, None, 2, False, 1, 0, 0]\n"
     ]
    }
   ],
   "source": [
    "def move_zeros(array):\n",
    "    no_zeroes = [x for x in array if x != 0 or isinstance(x, bool)]\n",
    "\n",
    "    solution = no_zeroes + (len(array) - len(no_zeroes))*[0]\n",
    "    \n",
    "    return solution\n",
    "\n",
    "for problem in problems:\n",
    "    print(move_zeros(problem))"
   ]
  },
  {
   "cell_type": "markdown",
   "metadata": {},
   "source": [
    "#### lambda Solution"
   ]
  },
  {
   "cell_type": "code",
   "execution_count": 11,
   "metadata": {},
   "outputs": [
    {
     "name": "stdout",
     "output_type": "stream",
     "text": [
      "[1, 2, 1, 1, 3, 1, 0]\n",
      "[9, 9, 1, 2, 1, 1, 3, 1, 9, 9]\n",
      "['a', 'b', 'c', 'd', 1, 1, 3, 1, 9, 9]\n",
      "['a', 'b', None, 'c', 'd', 1, False, 1, 3, [], 1, 9, {}, 9]\n",
      "[1, None, 2, False, 1, 0, 0]\n"
     ]
    }
   ],
   "source": [
    "for problem in problems:\n",
    "    no_zeroes = list(filter(lambda x: x!= 0 or isinstance(x,bool) ,problem)) \n",
    "    \n",
    "    print(no_zeroes + (len(array) - len(no_zeroes))*[0])"
   ]
  },
  {
   "cell_type": "markdown",
   "metadata": {},
   "source": [
    "### Problem 3"
   ]
  },
  {
   "cell_type": "markdown",
   "metadata": {},
   "source": [
    "Another challenge from codewars was fairly difficult for me to solve. I'll outline the premise of the challenge below:"
   ]
  },
  {
   "cell_type": "markdown",
   "metadata": {},
   "source": [
    "#### Premise 1"
   ]
  },
  {
   "cell_type": "markdown",
   "metadata": {},
   "source": [
    "Some numbers have funny properties. For example:\n",
    "\n",
    "89 --> 8¹ + 9² = 89 * 1\n",
    "\n",
    "695 --> 6² + 9³ + 5⁴= 1390 = 695 * 2\n",
    "\n",
    "46288 --> 4³ + 6⁴+ 2⁵ + 8⁶ + 8⁷ = 2360688 = 46288 * 51\n",
    "\n",
    "Given a positive integer n written as abcd... (a, b, c, d... being digits) and a positive integer p\n",
    "\n",
    "we want to find a positive integer k, if it exists, such as the sum of the digits of n taken to the successive powers of p is equal to k * n.\n",
    "In other words:\n",
    "\n",
    "Is there an integer k such as : (a ^ p + b ^ (p+1) + c ^(p+2) + d ^ (p+3) + ...) = n * k\n",
    "\n",
    "If it is the case we will return k, if not return -1.\n",
    "\n",
    "Note: n and p will always be given as strictly positive integers."
   ]
  },
  {
   "cell_type": "markdown",
   "metadata": {},
   "source": [
    "#### Solution Explanation and Comparison\n",
    "Intially, when I began this tool I solved it by using a list comprehension. I essentially converted the integer into a string of numbers, conerted that string of numbers into a list, then ran the enumerate built-in starting at p to raise each iteration of the number in the string of numbers to the power of p^n"
   ]
  },
  {
   "cell_type": "code",
   "execution_count": 12,
   "metadata": {},
   "outputs": [],
   "source": [
    "import timeit\n",
    "\n",
    "mysetup = ''\n",
    "mycode = '''\n",
    "def dig_pow(n,p):\n",
    "    \n",
    "    nk = sum([(int(x)**i) for i,x in enumerate(list(str(n)),p)])\n",
    "\n",
    "    if nk % n == 0:\n",
    "        return (int(nk/n))\n",
    "    return - 1\n",
    "'''\n",
    "list_comp_solution = timeit.repeat(setup=mysetup, stmt=mycode, repeat=10000, number=1000000)"
   ]
  },
  {
   "cell_type": "markdown",
   "metadata": {},
   "source": [
    "It then occurred to me after my submission, that this might be an ideal place for a generator. Rather than summing a list comprehension it might be more efficient to simply sum a generator.\n",
    "\n",
    "So I made two changes, I changed the list comprehension into a generator by simply changing the outside sqare brackets into (). ThenI also got rid of the list-built in and simply enumerated across the str(n) without convering it into a list."
   ]
  },
  {
   "cell_type": "code",
   "execution_count": 13,
   "metadata": {},
   "outputs": [],
   "source": [
    "mysetup = ''\n",
    "mycode = '''\n",
    "def dig_pow(n,p):\n",
    "    \n",
    "    nk = sum(((int(x)**i) for i,x in enumerate(str(n),p)))\n",
    "\n",
    "    if nk % n == 0:\n",
    "        return (int(nk/n))\n",
    "    return - 1\n",
    "'''\n",
    "generator_solution = timeit.repeat(setup=mysetup, stmt=mycode,repeat=10000,number=1000000)"
   ]
  },
  {
   "cell_type": "code",
   "execution_count": 14,
   "metadata": {},
   "outputs": [
    {
     "name": "stdout",
     "output_type": "stream",
     "text": [
      "For the Generator the average run time was: 0.0567 the STDV was: 0.0134\n",
      "For the List comprehension solution the average run time was: 0.0580 the STDV was: 0.0149\n"
     ]
    }
   ],
   "source": [
    "import statistics\n",
    "\n",
    "print(f'For the Generator the average run time was: {statistics.mean(generator_solution):.4f} the STDV was: {statistics.stdev(generator_solution):.4f}')\n",
    "print(f'For the List comprehension solution the average run time was: {statistics.mean(list_comp_solution):.4f} the STDV was: {statistics.stdev(list_comp_solution):.4f}')"
   ]
  },
  {
   "cell_type": "markdown",
   "metadata": {},
   "source": [
    "I ran these two solutions through the timeit module with many iterations and it appears that the generator solution to the dig_pow() function is a bit faster."
   ]
  },
  {
   "cell_type": "code",
   "execution_count": null,
   "metadata": {},
   "outputs": [],
   "source": []
  }
 ],
 "metadata": {
  "kernelspec": {
   "display_name": "Python 3",
   "language": "python",
   "name": "python3"
  },
  "language_info": {
   "codemirror_mode": {
    "name": "ipython",
    "version": 3
   },
   "file_extension": ".py",
   "mimetype": "text/x-python",
   "name": "python",
   "nbconvert_exporter": "python",
   "pygments_lexer": "ipython3",
   "version": "3.7.2"
  }
 },
 "nbformat": 4,
 "nbformat_minor": 2
}
